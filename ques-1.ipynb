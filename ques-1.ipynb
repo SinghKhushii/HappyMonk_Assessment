{
 "cells": [
  {
   "cell_type": "code",
   "execution_count": 3,
   "id": "00df5c94",
   "metadata": {},
   "outputs": [],
   "source": [
    "import numpy as np"
   ]
  },
  {
   "cell_type": "code",
   "execution_count": 4,
   "id": "602f7aeb",
   "metadata": {},
   "outputs": [],
   "source": [
    "# Generate dataset A\n",
    "np.random.seed(0)\n",
    "A = np.random.normal(loc=0, scale=1, size=10000)"
   ]
  },
  {
   "cell_type": "code",
   "execution_count": 13,
   "id": "ac317a5f",
   "metadata": {},
   "outputs": [],
   "source": [
    "# Generate dataset B\n",
    "np.random.seed(1)\n",
    "B = np.random.normal(loc=0, scale=1, size=1000)\n",
    "\n"
   ]
  },
  {
   "cell_type": "code",
   "execution_count": 14,
   "id": "167497c0",
   "metadata": {},
   "outputs": [
    {
     "name": "stdout",
     "output_type": "stream",
     "text": [
      "Means are not similar\n"
     ]
    }
   ],
   "source": [
    "# Compare mean of A and B\n",
    "mean_A = np.mean(A)\n",
    "mean_B = np.mean(B)\n",
    "if abs(mean_A - mean_B) < 1e-2:\n",
    "    print(\"Means are similar\")\n",
    "else:\n",
    "    print(\"Means are not similar\")\n",
    "\n",
    "\n",
    "\n"
   ]
  },
  {
   "cell_type": "code",
   "execution_count": 15,
   "id": "92f6ff42",
   "metadata": {},
   "outputs": [
    {
     "name": "stdout",
     "output_type": "stream",
     "text": [
      "Standard deviations are similar\n"
     ]
    }
   ],
   "source": [
    "# Compare standard deviation of A and B\n",
    "std_A = np.std(A)\n",
    "std_B = np.std(B)\n",
    "if abs(std_A - std_B) < 1e-2:\n",
    "    print(\"Standard deviations are similar\")\n",
    "else:\n",
    "    print(\"Standard deviations are not similar\")"
   ]
  },
  {
   "cell_type": "code",
   "execution_count": null,
   "id": "935fe091",
   "metadata": {},
   "outputs": [],
   "source": []
  },
  {
   "cell_type": "code",
   "execution_count": null,
   "id": "8e5ce094",
   "metadata": {},
   "outputs": [],
   "source": []
  }
 ],
 "metadata": {
  "kernelspec": {
   "display_name": "Python 3",
   "language": "python",
   "name": "python3"
  },
  "language_info": {
   "codemirror_mode": {
    "name": "ipython",
    "version": 3
   },
   "file_extension": ".py",
   "mimetype": "text/x-python",
   "name": "python",
   "nbconvert_exporter": "python",
   "pygments_lexer": "ipython3",
   "version": "3.8.8"
  }
 },
 "nbformat": 4,
 "nbformat_minor": 5
}
